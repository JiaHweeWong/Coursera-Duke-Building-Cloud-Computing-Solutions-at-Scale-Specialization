{
  "nbformat": 4,
  "nbformat_minor": 0,
  "metadata": {
    "colab": {
      "provenance": [],
      "authorship_tag": "ABX9TyNz4QWN8siD+3Zv/1KaHuXC",
      "include_colab_link": true
    },
    "kernelspec": {
      "name": "python3",
      "display_name": "Python 3"
    },
    "language_info": {
      "name": "python"
    }
  },
  "cells": [
    {
      "cell_type": "markdown",
      "metadata": {
        "id": "view-in-github",
        "colab_type": "text"
      },
      "source": [
        "<a href=\"https://colab.research.google.com/github/JiaHweeWong/Coursera-Duke-Building-Cloud-Computing-Solutions-at-Scale-Specialization/blob/main/Course%201%20Cloud%20Computing%20Foundations/Week%202/Colab_Markdown.ipynb\" target=\"_parent\"><img src=\"https://colab.research.google.com/assets/colab-badge.svg\" alt=\"Open In Colab\"/></a>"
      ]
    },
    {
      "cell_type": "markdown",
      "source": [
        "# Markdown\n",
        "\n",
        "This is a markdown practice.\n",
        "\n",
        "I also want to learn how to connect GColab to GitHub."
      ],
      "metadata": {
        "id": "TVsJEwo1quKJ"
      }
    },
    {
      "cell_type": "code",
      "execution_count": null,
      "metadata": {
        "id": "19XPQmrnqtsL"
      },
      "outputs": [],
      "source": []
    }
  ]
}